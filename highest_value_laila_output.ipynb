{
 "cells": [
  {
   "cell_type": "code",
   "execution_count": 1,
   "metadata": {},
   "outputs": [],
   "source": [
    "import pandas as pd\n",
    "import os"
   ]
  },
  {
   "cell_type": "code",
   "execution_count": 2,
   "metadata": {},
   "outputs": [],
   "source": [
    "raw_data_url = 'https://gist.githubusercontent.com/bobbae/b4eec5b5cb0263e7e3e63a6806d045f2/raw/279b794a834a62dc108fc843a72c94c49361b501/data.csv'\n",
    "df_data = pd.read_csv(raw_data_url)"
   ]
  },
  {
   "cell_type": "code",
   "execution_count": 3,
   "metadata": {},
   "outputs": [
    {
     "name": "stdout",
     "output_type": "stream",
     "text": [
      "25500\n"
     ]
    }
   ],
   "source": [
    "# Count total number of rows \n",
    "print(df_data.shape[0])"
   ]
  },
  {
   "cell_type": "code",
   "execution_count": 4,
   "metadata": {},
   "outputs": [],
   "source": [
    "def isFloat(string):\n",
    "    try:\n",
    "        float(string)\n",
    "        return True\n",
    "    except ValueError:\n",
    "        return False"
   ]
  },
  {
   "cell_type": "code",
   "execution_count": 5,
   "metadata": {},
   "outputs": [],
   "source": [
    "df_numeric = df_data[df_data['Profit (in millions)'].apply(lambda x: isFloat(x))]"
   ]
  },
  {
   "cell_type": "code",
   "execution_count": 6,
   "metadata": {},
   "outputs": [
    {
     "name": "stdout",
     "output_type": "stream",
     "text": [
      "25131\n"
     ]
    }
   ],
   "source": [
    "# Count total rows where value of profit is numeric\n",
    "print(df_numeric.shape[0])"
   ]
  },
  {
   "cell_type": "code",
   "execution_count": 7,
   "metadata": {},
   "outputs": [],
   "source": [
    "data2 = df_numeric.sort_values(by='Profit (in millions)', ascending = False)"
   ]
  },
  {
   "cell_type": "code",
   "execution_count": 8,
   "metadata": {},
   "outputs": [],
   "source": [
    "with open(os.path.join(os.getcwd(), 'data2.json'), 'w') as outfile:\n",
    "    outfile.write(data2.reset_index(drop=True).to_json(orient='records'))"
   ]
  },
  {
   "cell_type": "code",
   "execution_count": 9,
   "metadata": {},
   "outputs": [
    {
     "name": "stdout",
     "output_type": "stream",
     "text": [
      "    Year  Rank                       Company  Revenue (in millions)  \\\n",
      "0   2004    46                     Microsoft                32187.0   \n",
      "1   1999   315                       Gannett                 5121.3   \n",
      "2   1999   238                       KeyCorp                 7100.0   \n",
      "3   2001   222       St. Paul Travelers Cos.                 8607.6   \n",
      "4   1997   228        PNC Financial Services                 6333.8   \n",
      "5   1969    54           International Paper                 1561.8   \n",
      "6   2002   222                   SCI Systems                 8713.9   \n",
      "7   2003   318                Barnes & Noble                 5269.3   \n",
      "8   1980   149                Nabisco Brands                 2362.0   \n",
      "9   1991   249   National Service Industries                 1647.8   \n",
      "10  1994   346             Applied Materials                 1080.0   \n",
      "11  1979   141                     Whirlpool                 2082.9   \n",
      "12  1997   440           Oxford Health Plans                 3075.0   \n",
      "13  2003   500                 Neiman Marcus                 2948.3   \n",
      "14  1977    85              General Dynamics                 2553.5   \n",
      "15  1985   133        Combustion Engineering                 3057.5   \n",
      "16  1975    80  Burlington Industries Equity                 2330.0   \n",
      "17  2003   282             Interpublic Group                 6203.6   \n",
      "18  1976    55                Ralston Purina                 3149.1   \n",
      "19  1976    44                 General Foods                 3675.1   \n",
      "\n",
      "   Profit (in millions)  \n",
      "0                  9993  \n",
      "1                 999.9  \n",
      "2                   996  \n",
      "3                 993.5  \n",
      "4                 992.2  \n",
      "5                  99.9  \n",
      "6                  99.9  \n",
      "7                  99.9  \n",
      "8                  99.8  \n",
      "9                  99.7  \n",
      "10                 99.7  \n",
      "11                 99.6  \n",
      "12                 99.6  \n",
      "13                 99.6  \n",
      "14                 99.6  \n",
      "15                 99.6  \n",
      "16                 99.5  \n",
      "17                 99.5  \n",
      "18                 99.5  \n",
      "19                 99.4  \n"
     ]
    }
   ],
   "source": [
    "# Top 20 rows with valid 'profit' numeric values\n",
    "print(data2.head(20).reset_index(drop=True))"
   ]
  },
  {
   "cell_type": "code",
   "execution_count": null,
   "metadata": {},
   "outputs": [],
   "source": []
  }
 ],
 "metadata": {
  "kernelspec": {
   "display_name": "Python 3",
   "language": "python",
   "name": "python3"
  },
  "language_info": {
   "codemirror_mode": {
    "name": "ipython",
    "version": 3
   },
   "file_extension": ".py",
   "mimetype": "text/x-python",
   "name": "python",
   "nbconvert_exporter": "python",
   "pygments_lexer": "ipython3",
   "version": "3.8.3"
  }
 },
 "nbformat": 4,
 "nbformat_minor": 4
}
